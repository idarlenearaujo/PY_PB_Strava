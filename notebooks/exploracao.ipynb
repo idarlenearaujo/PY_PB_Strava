{
 "cells": [
  {
   "cell_type": "markdown",
   "metadata": {},
   "source": [
    "## Exploração dos dados obtidos via API Strava 😄👩‍💻🚀"
   ]
  },
  {
   "cell_type": "markdown",
   "metadata": {},
   "source": [
    "Neste notebook, mergulhamos nos dados fornecidos pela API Strava para extrair insights valiosos sobre atividades físicas variadas. A API Strava é uma ferramenta poderosa que nos dá acesso a um vasto conjunto de informações detalhadas, abrangendo desde ciclismo e natação até corridas e muito mais. As métricas analisadas incluem, mas não se limitam a, distância percorrida, duração da atividade, ganho de elevação e frequência cardíaca.\n",
    "\n",
    "A seleção de dados para este notebook foi realizada mantendo apenas aqueles dados relevantes para as questões propostas 🎯. Além disso, um processo de limpeza foi aplicado para garantir a precisão e a qualidade das análises. O foco está em extrair *insights* relevantes que possam responder a perguntas específicas sobre padrões de atividades físicas, tendências ao longo do tempo e comportamento dos atletas 🏅.\n",
    "\n",
    "Com a combinação de métodos estatísticos e visualizações gráficas, este notebook busca não apenas responder a perguntas predefinidas, mas também descobrir novas perspectivas e histórias contadas pelos dados 📊📈.\n",
    "\n",
    "✨ **Os dados a seguir foram extraídos de uma conta de um atleta amador do Strava.** ✨"
   ]
  },
  {
   "cell_type": "markdown",
   "metadata": {},
   "source": [
    "##### 📚 Importando as bibliotecas"
   ]
  },
  {
   "cell_type": "code",
   "execution_count": null,
   "metadata": {},
   "outputs": [],
   "source": [
    "# Importação de bibliotecas\n",
    "import os\n",
    "import pandas as pd\n",
    "from datetime import datetime, timedelta\n",
    "import matplotlib.pyplot as plt\n",
    "import seaborn as sns\n",
    "import plotly.express as px\n",
    "import numpy as np\n",
    "from itertools import *\n",
    "from dateutil.relativedelta import relativedelta\n",
    "\n",
    "# Configurações globais para visualizações\n",
    "%matplotlib inline\n",
    "#sns.set_theme(style=\"darkgrid\")\n",
    "\n",
    "caminho_usuario = os.path.expanduser('~')\n",
    "file = 'Desktop\\\\codigos\\\\Python\\\\Strava_PB_PY\\\\PY_PB_Strava\\\\data\\\\processed\\\\data.csv'\n",
    "arquivo = os.path.join(caminho_usuario, file)"
   ]
  },
  {
   "cell_type": "markdown",
   "metadata": {},
   "source": [
    "##### 📁 Carregamento dos dados no dataframe df"
   ]
  },
  {
   "cell_type": "code",
   "execution_count": null,
   "metadata": {},
   "outputs": [],
   "source": [
    "df = pd.read_csv(arquivo)"
   ]
  },
  {
   "cell_type": "markdown",
   "metadata": {},
   "source": [
    "##### 🔍 Análise Exploratória de Dados (EDA)"
   ]
  },
  {
   "cell_type": "markdown",
   "metadata": {},
   "source": [
    "##### O arquivo contém as seguintes variáveis\n",
    "    \n",
    "*   **name:** O nome dado à atividade pelo usuário.\n",
    "*   **distance:** A distância total percorrida durante a atividade, geralmente em metros.\n",
    "*   **moving_time:** O tempo total em movimento, excluindo as paradas, geralmente em segundos.\n",
    "*   **elapse_time:** O tempo total decorrido desde o início até o fim da atividade, incluindo todas as paradas, geralmente em segundos.\n",
    "*   **total_elevation_gain:** O ganho total de elevação durante a atividade, 0geralmente em metros.\n",
    "*   **sport_type:** Um campo mais específico que detalha o tipo de esporte dentro de uma categoria de atividade.\n",
    "*   **start_date_local:** A data e hora de início da atividade.\n",
    "*   **achievement_count:** O número de conquistas ganhas durante a atividade.\n",
    "*   **kudos_count:** O número curtidas que a atividade recebeu.\n",
    "*   **comment_count:** O número de comentários feitos na atividade.\n",
    "*   **photo_count:** O número de fotos associadas à atividade.\n",
    "*   **average_speed:** A velocidade média durante a atividade, geralmente em metros por segundo.\n",
    "*   **max_speed:** A velocidade máxima atingida durante a atividade.\n",
    "*   **average_heartrate:** A frequência cardíaca média durante a atividade.\n",
    "*   **max_heartrate:** A frequência cardíaca máxima alcançada durante a atividade.\n",
    "*   **elev_high:** A maior elevação alcançada durante a atividade.\n",
    "*   **elev_low:** A menor elevação durante a atividade.\n",
    "*   **pr_count:** O número de recordes pessoais alcançados durante a atividade."
   ]
  },
  {
   "cell_type": "code",
   "execution_count": null,
   "metadata": {},
   "outputs": [],
   "source": [
    "# Resumo estatístico das variáveis numéricas\n",
    "df.describe()"
   ]
  },
  {
   "cell_type": "code",
   "execution_count": null,
   "metadata": {},
   "outputs": [],
   "source": [
    "# Resumo sobre o dataframe, nome das colunas, quantidade dos não nulos e o tipo dos dados\n",
    "df.info()"
   ]
  },
  {
   "cell_type": "code",
   "execution_count": null,
   "metadata": {},
   "outputs": [],
   "source": [
    "# Amostra dos dados, contendo as 5 primeiras linhas do dataframe\n",
    "df.head()"
   ]
  },
  {
   "cell_type": "markdown",
   "metadata": {},
   "source": [
    "👀 Nota-se que não há valores em branco/nulos, os dados não são somente números, há objetos, como por exemplo nome da atividade, tipo do esporte. \n",
    "*   Percebemos que a maior quilometragem alcansada foi de 24km;\n",
    "*   O maior ganho de elevação foi de 250 metros;\n",
    "*   Foram alcançados no máximo 39 recordes pessoais em uma atividade;\n",
    "*   O ritmo cardiaco chegou aos 190 bpm;\n",
    "*   A maior duração de uma atividade foi de 3 horas 13 minutos e 26 segundos;\n",
    "*   Há diversos tipos de atividades nesta base, como: corrida, treino com peso, como podemos observar nas 5 primeiras linhas do comando *head()*."
   ]
  },
  {
   "cell_type": "markdown",
   "metadata": {},
   "source": [
    "#### 📊👀 **Análise Visual dos Dados de Atividades Físicas**\n",
    "Vamos explorar os dados através de gráficos interativos que respondam às seguintes perguntas:\n",
    "- 📅 Quantas atividades foram feitas neste ano? ✅\n",
    "- 🏃‍♂️ Qual está sendo a atividade física mais praticada este ano? ✅\n",
    "- 📅 Quantas atividades foram feitas mês a mês em 2024 e 2023? ✅\n",
    "- 🏃‍♂️ Qual foi a atividade física mais praticada em 2023? ✅\n",
    "- 📅 Quantas atividades foram feitas neste mês? ✅\n",
    "- 🏃‍♀️ Qual está sendo a atividade física mais praticada neste mês? ✅\n",
    "- 📅 Quantos dias em movimento mês a mês com a linha de média? ✅\n",
    "- 📅 Quantas atividades por tipo de esporte foram feitas mês a mês? ✅\n",
    "- ⏱️ Qual é o tempo em movimento mês a mês? ✅\n",
    "- 🔄 Qual é o tempo em movimento mês a mês por atividade física? ✅\n",
    "- 📏 Quais são as distâncias percorridas mês a mês? ✅\n",
    "- ⛰️ Quais são os ganhos de elevação mês a mês? ✅\n",
    "- 📏 Distância vs Ganho de Elevação. ✅ \n",
    "- 📏 Frequência cardíaca vs Ganho de Elevação. ✅\n",
    "- 📏 Velocidade Média vs Batimentos cardíacos Médios. ✅\n",
    "- 📏 Evolução da Velocidade Média. ✅\n",
    "- 📅 Qual quilometragem foram feitas por semana? ✅ \n",
    "- 📅 Qual o tempo em movimento por semana? ✅\n",
    "- 📅 Qual elevação feita por semana? ✅\n",
    "- Qual o dia da semana com treinos mais pesados?\n",
    "- Qual o dia da semana com mais kms rodados?\n",
    "- Qual dia da semana com mais atividade?\n",
    "- Dias da semana com mais tempo treinando?\n",
    "- Dias da semana com mais esforço?\n",
    "- Dias da semana mais faltantes?\n"
   ]
  },
  {
   "cell_type": "code",
   "execution_count": null,
   "metadata": {},
   "outputs": [],
   "source": [
    "# Converta 'start_date_local' e 'data' para datetime e extraia o mês e o ano\n",
    "df['start_date_local'] = pd.to_datetime(df['start_date_local'])\n",
    "df['data'] = pd.to_datetime(df['data'], format='%d-%m-%Y', dayfirst=True)"
   ]
  },
  {
   "cell_type": "markdown",
   "metadata": {},
   "source": [
    "#### Atividades Anuais: O Poder da Consistência 📈"
   ]
  },
  {
   "cell_type": "code",
   "execution_count": null,
   "metadata": {},
   "outputs": [],
   "source": [
    "# Vários dias são repetidos, o que aconteceu?\n",
    "df_count = df.groupby(['data', 'sport_type'])['ano'].count().reset_index()\n",
    "df_count.columns = ['data', 'esporte', 'quantidade']\n",
    "df_count[df_count['quantidade'] > 2]"
   ]
  },
  {
   "cell_type": "code",
   "execution_count": null,
   "metadata": {},
   "outputs": [],
   "source": [
    "# Função para filtrar dados por período\n",
    "def filtrar_por_periodo(df, data_inicial, data_final):\n",
    "    return df[(df['data'] >= data_inicial) & (df['data'] <= data_final)]"
   ]
  },
  {
   "cell_type": "code",
   "execution_count": null,
   "metadata": {},
   "outputs": [],
   "source": [
    "'''\n",
    "Analisar 20223 / 2024\n",
    "'''\n",
    "# Definir período atual e do ano passado\n",
    "data_atual = datetime.now() - timedelta(days=0)\n",
    "\n",
    "primeiro_dia_ano_atual = data_atual.replace(month=1, day=1)\n",
    "ultimo_dia_ano_atual = df['data'].max()\n",
    "\n",
    "# Filtrar períodos\n",
    "df_periodo_atual = filtrar_por_periodo(df, primeiro_dia_ano_atual, ultimo_dia_ano_atual)\n",
    "df_periodo_anterior = filtrar_por_periodo(df, primeiro_dia_ano_atual - relativedelta(years=1), ultimo_dia_ano_atual - relativedelta(years=1))\n",
    "\n",
    "# Combinar dados dos dois períodos\n",
    "df_combinado = pd.concat([df_periodo_atual, df_periodo_anterior], ignore_index=True)"
   ]
  },
  {
   "cell_type": "code",
   "execution_count": null,
   "metadata": {},
   "outputs": [],
   "source": [
    "data_atual"
   ]
  },
  {
   "cell_type": "code",
   "execution_count": null,
   "metadata": {},
   "outputs": [],
   "source": [
    "'''\n",
    "Durante um período, o atleta registrava seus treinos de uma maneira específica:\n",
    "Iniciava o cronômetro durante o aquecimento e o parava ao terminar;\n",
    "Fazia o mesmo ao começar o treino principal e, novamente, ao finalizá-lo;\n",
    "E seguia o mesmo procedimento para o desaquecimento. \n",
    "Assim, resultava em três registros distintos para o mesmo treino no mesmo dia.\n",
    "\n",
    "Logo, fizemos apenas um treino, somando as distâncias, duração, ganho em elevação,\n",
    "a média de velocidade, média batimentos cardíacos, máxima velocidade e a máxima batimentos\n",
    "cardíacos.\n",
    "\n",
    "'''\n",
    "# Regras de agregação para 'corrida'\n",
    "regras_de_agregacao = {\n",
    "    'distance': 'sum',\n",
    "    'duracao_atividade': 'sum',\n",
    "    'total_elevation_gain': 'sum',\n",
    "    'max_speed': 'max',\n",
    "    'max_heartrate': 'max',\n",
    "    'average_speed': 'mean',\n",
    "    'average_heartrate': 'mean',\n",
    "    'achievement_count': 'sum',\n",
    "    'kudos_count': 'sum',\n",
    "    'comment_count': 'sum',\n",
    "    'photo_count': 'sum',\n",
    "    'elev_high': 'max',\n",
    "    'elev_low': 'min',    \n",
    "    'pr_count': 'sum'    \n",
    "\n",
    "}\n",
    "\n",
    "# Agregar dados para 'corrida'\n",
    "df_corrida_agregado = df_combinado[df_combinado['sport_type'] == 'Corrida'].groupby(['data', 'sport_type']).agg(regras_de_agregacao).reset_index()\n",
    "\n",
    "# Adicionar colunas 'ano' e 'mes'\n",
    "df_corrida_agregado['ano'] = df_corrida_agregado['data'].dt.year\n",
    "df_corrida_agregado['mes'] = df_corrida_agregado['data'].dt.month\n",
    "\n",
    "# Separar dados que não são 'corrida'\n",
    "df_outros_esportes = df_combinado[df_combinado['sport_type'] != 'Corrida']"
   ]
  },
  {
   "cell_type": "code",
   "execution_count": null,
   "metadata": {},
   "outputs": [],
   "source": [
    "df_outros_esportes = df_outros_esportes[['data', 'sport_type', 'distance', 'duracao_atividade',\n",
    "       'total_elevation_gain', 'max_speed', 'max_heartrate', 'average_speed',\n",
    "       'average_heartrate', 'achievement_count', 'kudos_count',\n",
    "       'comment_count', 'photo_count', 'elev_high', 'elev_low', 'pr_count',\n",
    "       'ano', 'mes']]"
   ]
  },
  {
   "cell_type": "code",
   "execution_count": null,
   "metadata": {},
   "outputs": [],
   "source": [
    "# Combinar todos os dados\n",
    "df_final = pd.concat([df_corrida_agregado, df_outros_esportes])\n",
    "df_final['ano_mes'] = df_final['data'].dt.strftime('%m-%Y')"
   ]
  },
  {
   "cell_type": "code",
   "execution_count": null,
   "metadata": {},
   "outputs": [],
   "source": [
    "# 📅 Quantas atividades foram feitas neste ano?\n",
    "ano_atual = pd.Timestamp('today').year\n",
    "atividades_ano = df_final[df_final['ano'] == ano_atual]\n",
    "print(f\"Atividades neste ano: {atividades_ano.shape[0]}\")"
   ]
  },
  {
   "cell_type": "code",
   "execution_count": null,
   "metadata": {},
   "outputs": [],
   "source": [
    "# 🏃‍♂️ Qual está sendo a atividade física mais praticada este ano?\n",
    "atividade_mais_praticada_ano = atividades_ano['sport_type'].value_counts()\n",
    "print(f\"Atividade mais praticada este ano: {atividade_mais_praticada_ano.idxmax()}\")"
   ]
  },
  {
   "cell_type": "code",
   "execution_count": null,
   "metadata": {},
   "outputs": [],
   "source": [
    "# Contagem de atividades por tipo de esporte\n",
    "contagem_atividades_ano = atividades_ano['sport_type'].value_counts().reset_index()\n",
    "contagem_atividades_ano.columns = ['Tipo de atividade', 'Quantidade de atividades']\n",
    "\n",
    "# Gráfico de barras com a contagem de atividades por tipo de esporte\n",
    "fig = px.bar(contagem_atividades_ano, x='Tipo de atividade', y='Quantidade de atividades',\n",
    "              title=f\"Atividades Físicas Mais Praticadas Neste Ano ({pd.Timestamp('today').year})\")\n",
    "\n",
    "# Adicione rótulos de dados às barras\n",
    "fig.update_traces(texttemplate='%{y}')\n",
    "fig.update_layout(barmode='group', xaxis_tickangle=45)\n",
    "\n",
    "fig.show()\n",
    "fig.write_image(\"../reports/atividades2024.png\")"
   ]
  },
  {
   "cell_type": "markdown",
   "metadata": {},
   "source": [
    "Esse gráfico é útil para identificar as preferências de exercícios e pode ajudar a entender as tendências de atividades físicas dentro de um determinado período, neste caso, dentro do ano atual."
   ]
  },
  {
   "cell_type": "code",
   "execution_count": null,
   "metadata": {},
   "outputs": [],
   "source": [
    "# 📅 Quantas atividades foram feitas ano passado?\n",
    "atividades_ano_passado = df_final[df_final['ano'] == pd.Timestamp('today').year - 1]\n",
    "print(f\"Atividades ano passado (mesmo período 2024): {atividades_ano_passado.shape[0]}\")"
   ]
  },
  {
   "cell_type": "code",
   "execution_count": null,
   "metadata": {},
   "outputs": [],
   "source": [
    "# 🏃‍♂️ Qual foi a atividade física mais praticada ano passado?\n",
    "atividade_mais_praticada_ano_passado = atividades_ano_passado['sport_type'].value_counts()\n",
    "print(f\"Atividade mais praticada ano passado (mesmo período 2024): {atividade_mais_praticada_ano_passado.idxmax()}\")\n",
    "\n",
    "atividade_mais_praticada_ano_passado = atividade_mais_praticada_ano_passado.reset_index()"
   ]
  },
  {
   "cell_type": "code",
   "execution_count": null,
   "metadata": {},
   "outputs": [],
   "source": [
    "# Contagem de atividades por tipo de esporte\n",
    "atividade_mais_praticada_ano_passado.columns = ['Tipo de atividade', 'Quantidade de atividades']\n",
    "\n",
    "# Gráfico de barras com a contagem de atividades por tipo de esporte\n",
    "fig = px.bar(atividade_mais_praticada_ano_passado, x='Tipo de atividade', y='Quantidade de atividades', title=f\"Atividades Físicas Mais Praticadas Ano ({pd.Timestamp('today').year - 1})\")\n",
    "\n",
    "# Adicione rótulos de dados às barras\n",
    "fig.update_traces(texttemplate='%{y}')\n",
    "fig.update_layout(barmode='group', xaxis_tickangle=45)\n",
    "\n",
    "fig.show()\n",
    "fig.write_image(\"../reports/atividades2023.png\")"
   ]
  },
  {
   "cell_type": "code",
   "execution_count": null,
   "metadata": {},
   "outputs": [],
   "source": [
    "# Comparando mesmo período 2023 / 2024\n",
    "df_group = df_final.groupby(['ano', 'mes'])['data'].count().reset_index()\n",
    "df_group.columns = ['Ano', 'Mês', 'Quantidade']\n",
    "\n",
    "# Crie o gráfico de barras comparando mês a mês\n",
    "fig = px.bar(df_group, x='Mês', y='Quantidade', color='Ano', barmode='group',\n",
    "             title='Comparação de Esportes Praticados Mês a Mês (2023 vs. 2024)')\n",
    "\n",
    "\n",
    "# Adicione rótulos de dados às barras\n",
    "fig.update_traces(texttemplate='%{y}')\n",
    "\n",
    "fig.show()\n",
    "\n",
    "fig.write_image(\"../reports/comparacao23_24_total.png\")"
   ]
  },
  {
   "cell_type": "markdown",
   "metadata": {},
   "source": [
    "Observa-se que nos meses de janeiro e fevereiro de 2024 houve um aumento na atividade física em comparação com o ano anterior. No entanto, em março/abril/maio, devido a uma lesão, houve uma diminuição nas atividades físicas. Em abril, o indivíduo retomou a prática de exercícios físicos de baixo impacto, superando até mesmo os níveis do ano passado. Por fim, em junho, os valores estão equiparados dos registrados em 2023. Com uma nova lesão a partir de julho houve uma diminuida, mas não parou. Em agosto uma nova lesão resultando em mais diminuição nos exercícios praticados."
   ]
  },
  {
   "cell_type": "code",
   "execution_count": null,
   "metadata": {},
   "outputs": [],
   "source": [
    "# Comparando mesmo período 2023 / 2024 segmentado por esporte\n",
    "df_group = df_final.groupby(['ano', 'mes', 'sport_type'])['data'].count().reset_index()\n",
    "df_group.columns = ['Ano', 'Mês', 'Esporte', 'Quantidade']\n",
    "\n",
    "# Crie o gráfico de barras comparando mês a mês\n",
    "fig = px.bar(df_group, x='Mês', y='Quantidade', color='Esporte', barmode='group',\n",
    "             title='Comparação de Esportes Praticados Mês a Mês (2023 vs. 2024)', facet_col='Ano')\n",
    "\n",
    "\n",
    "# Adicione rótulos de dados às barras\n",
    "fig.update_traces(texttemplate='%{y}')\n",
    "\n",
    "fig.show()\n",
    "\n",
    "fig.write_image(\"../reports/comparacao23_24.png\")"
   ]
  },
  {
   "cell_type": "markdown",
   "metadata": {},
   "source": [
    "#### A Corrida Continua 🏆"
   ]
  },
  {
   "cell_type": "code",
   "execution_count": null,
   "metadata": {},
   "outputs": [],
   "source": [
    "# 🏃‍♂️ Corrida - comparação 2023 / 2024\n",
    "df_corrida = df_final[df_final['sport_type'] == 'Corrida']\n",
    "df_corrida = df_corrida.groupby(['ano', 'mes'])['data'].count().reset_index()\n",
    "df_corrida.columns = ['Ano', 'Mês', 'Quantidade']\n",
    "\n",
    "# Crie o gráfico de barras comparando mês a mês\n",
    "fig = px.bar(df_corrida, x='Mês', y='Quantidade', color='Ano', barmode='group',\n",
    "             title='Comparação de Quantidade de Corridas por Mês (2023 vs. 2024)')\n",
    "\n",
    "# Adicione rótulos de dados às barras\n",
    "fig.update_traces(texttemplate='%{y}')\n",
    "\n",
    "fig.show()\n",
    "fig.write_image(\"../reports/comp_corrida23_24.png\")"
   ]
  },
  {
   "cell_type": "markdown",
   "metadata": {},
   "source": [
    "Observamos que essa comparação e a anterior mostram os mesmos parâmetros, conforme afirmado na resposta anterior: em 2023 a atividade de corrida foi o ponto central desse indivíduo. No entanto, o individuo teve várias lesões no ano como ocorreu no mês de março/abril/junho/agosto/setembro e retornando aos poucos em outubro/2024."
   ]
  },
  {
   "cell_type": "markdown",
   "metadata": {},
   "source": [
    "#### Análise Mensal: Ritmo e Recuperação 🗓️"
   ]
  },
  {
   "cell_type": "code",
   "execution_count": null,
   "metadata": {},
   "outputs": [],
   "source": [
    "mes = (pd.Timestamp('today').month - 1)\n",
    "mes"
   ]
  },
  {
   "cell_type": "code",
   "execution_count": null,
   "metadata": {},
   "outputs": [],
   "source": [
    "# 📅 Quantas atividades foram feitas neste mês? ✅\n",
    "condicao = ((df_final['mes'] == mes) & (df_final['ano'] == pd.Timestamp('today').year))\n",
    "atividades_mes = df_final[condicao.reindex(df_final.index)]\n",
    "\n",
    "print(f\"Atividades neste mês: {atividades_mes.shape[0]}\")"
   ]
  },
  {
   "cell_type": "code",
   "execution_count": null,
   "metadata": {},
   "outputs": [],
   "source": [
    "# 🏃‍♀️ Qual está sendo a atividade física mais praticada neste mês/ano? ✅\n",
    "# Contagem de categorias e a escolha do maior\n",
    "atividade_do_mes = atividades_mes['sport_type'].value_counts().idxmax()\n",
    "print(f\"Atividade mais praticada neste mês: {atividade_do_mes}\")"
   ]
  },
  {
   "cell_type": "code",
   "execution_count": null,
   "metadata": {},
   "outputs": [],
   "source": [
    "# Contagem de atividades por tipo de esporte\n",
    "contagem_atividades = atividades_mes['sport_type'].value_counts().reset_index()\n",
    "contagem_atividades.columns = ['Tipo de atividade', 'Quantidade de atividades']\n",
    "\n",
    "# Gráfico de barras com a contagem de atividades por tipo de esporte\n",
    "fig = px.bar(contagem_atividades, x='Tipo de atividade', y='Quantidade de atividades', title=f\"Atividades Físicas Mais Praticadas Neste Mês ({mes})\")\n",
    "\n",
    "# Adicione rótulos de dados às barras\n",
    "fig.update_traces(texttemplate='%{y}')\n",
    "\n",
    "fig.show()\n",
    "\n",
    "fig.write_image(\"../reports/esporte_mes.png\")"
   ]
  },
  {
   "cell_type": "markdown",
   "metadata": {},
   "source": [
    "Este gráfico é útil para identificar as preferências de exercícios e pode ajudar a entender as tendências de atividades físicas dentro de um determinado período, neste caso dentro do mês atual."
   ]
  },
  {
   "cell_type": "code",
   "execution_count": null,
   "metadata": {},
   "outputs": [],
   "source": [
    "# Análise Corrida Mês Atual\n",
    "df_corrida_mes = atividades_mes[atividades_mes['sport_type'] == 'Corrida']\n",
    "\n",
    "# Kms\n",
    "df_kms = df_corrida_mes.groupby(['data'])['distance'].sum().reset_index()\n",
    "df_kms['dia_da_semana'] = df_kms['data'].dt.strftime('%A')\n",
    "df_kms['dia_da_semana'] = df_kms['dia_da_semana'].replace({\n",
    "    'Monday': 'Segunda-Feira',\n",
    "    'Tuesday': 'Terça-Feira',\n",
    "    'Wednesday': 'Quarta-Feira',\n",
    "    'Thursday': 'Quinta-Feira',\n",
    "    'Friday': 'Sexta-Feira',\n",
    "    'Saturday': 'Sábado',\n",
    "    'Sunday': 'Domingo'\n",
    "})\n",
    "# Reordena os dias da semana para começar na segunda-feira\n",
    "df_kms['dia_da_semana'] = pd.Categorical(df_kms['dia_da_semana'], \n",
    "                                         categories=['Segunda-Feira', 'Terça-Feira', 'Quarta-Feira', 'Quinta-Feira', 'Sexta-Feira', 'Sábado', 'Domingo'], ordered=True)\n",
    "df_kms['numero_da_semana'] = df_kms['data'].dt.isocalendar().week"
   ]
  },
  {
   "cell_type": "code",
   "execution_count": null,
   "metadata": {},
   "outputs": [],
   "source": [
    "df_km_mean = df_kms.groupby('dia_da_semana')['distance'].mean().reset_index()\n",
    "df_km_mean.columns = ['Dia da semana', 'Distância média (km)']\n",
    "\n",
    "# Gráfico com as distâncias médias por dia da semana neste mês\n",
    "fig = px.bar(df_km_mean, x='Dia da semana', y='Distância média (km)',\n",
    "             title='Distância média percorrida por dia da semana no mês atual')\n",
    "\n",
    "# Rotulo de dados\n",
    "fig.update_traces(texttemplate='%{y}')\n",
    "             \n",
    "fig.show()\n",
    "\n",
    "fig.write_image(\"../reports/distancia_media_mes.png\")"
   ]
  },
  {
   "cell_type": "code",
   "execution_count": null,
   "metadata": {},
   "outputs": [],
   "source": [
    "heatmap_data = df_kms.pivot_table(index='dia_da_semana', columns='numero_da_semana', values='distance', aggfunc='mean')\n",
    "sns.heatmap(heatmap_data, cmap='viridis')\n",
    "plt.title('Heatmap da Distância Média por Dia da Semana e Número da Semana')\n",
    "plt.xlabel('Número da Semana')\n",
    "plt.ylabel('Dia da Semana')\n",
    "#plt.yticks(range(7), ['Seg', 'Ter', 'Qua', 'Qui', 'Sex', 'Sáb', 'Dom'], rotation=0)\n",
    "plt.show()\n"
   ]
  },
  {
   "cell_type": "code",
   "execution_count": null,
   "metadata": {},
   "outputs": [],
   "source": [
    "# Análise Corrida Mês Atual\n",
    "df_treino_mes = atividades_mes[atividades_mes['sport_type'] == 'Treino com peso']\n",
    "\n",
    "# Kms\n",
    "df_treinos = df_treino_mes.groupby(['data'])['duracao_atividade'].sum().reset_index()\n",
    "df_treinos['dia_da_semana'] = df_treinos['data'].dt.strftime('%A')\n",
    "df_treinos['dia_da_semana'] = df_treinos['dia_da_semana'].replace({\n",
    "    'Monday': 'Segunda-Feira',\n",
    "    'Tuesday': 'Terça-Feira',\n",
    "    'Wednesday': 'Quarta-Feira',\n",
    "    'Thursday': 'Quinta-Feira',\n",
    "    'Friday': 'Sexta-Feira',\n",
    "    'Saturday': 'Sábado',\n",
    "    'Sunday': 'Domingo'\n",
    "})\n",
    "# Reordena os dias da semana para começar na segunda-feira\n",
    "df_treinos['dia_da_semana'] = pd.Categorical(df_treinos['dia_da_semana'], \n",
    "                                         categories=['Segunda-Feira', 'Terça-Feira', 'Quarta-Feira', 'Quinta-Feira', 'Sexta-Feira', 'Sábado', 'Domingo'], ordered=True)\n",
    "df_treinos['numero_da_semana'] = df_treinos['data'].dt.isocalendar().week"
   ]
  },
  {
   "cell_type": "code",
   "execution_count": null,
   "metadata": {},
   "outputs": [],
   "source": [
    "# Análise Treino com Peso Mês Atual\n",
    "heatmap_data = df_treinos.pivot_table(index='dia_da_semana', columns='numero_da_semana', values='duracao_atividade', aggfunc='mean')\n",
    "sns.heatmap(heatmap_data, cmap='viridis')\n",
    "plt.title('Heatmap da Duração Média de Treino com peso por Dia da Semana e Número da Semana')\n",
    "plt.xlabel('Número da Semana')\n",
    "plt.ylabel('Dia da Semana')\n",
    "#plt.yticks(range(7), ['Seg', 'Ter', 'Qua', 'Qui', 'Sex', 'Sáb', 'Dom'], rotation=0)\n",
    "plt.show()"
   ]
  },
  {
   "cell_type": "markdown",
   "metadata": {},
   "source": [
    "#### Análise sob um período de tempo (mês-mês) 🗓️"
   ]
  },
  {
   "cell_type": "code",
   "execution_count": null,
   "metadata": {},
   "outputs": [],
   "source": [
    "df['ano_mes'] = df['data'].dt.strftime('%Y-%m')"
   ]
  },
  {
   "cell_type": "code",
   "execution_count": null,
   "metadata": {},
   "outputs": [],
   "source": [
    "# 📅 Quantos dias em movimento mês a mês com a linha de média? ✅\n",
    "# Preparar os dados\n",
    "# df_final['ano_mes'] = df_final['data'].dt.strftime('%m-%Y')\n",
    "\n",
    "# Agrupar os dados e excluindo as datas duplicadas deixando apenas uma\n",
    "# Renomeando as colunas\n",
    "contagem_dias = df.groupby('ano_mes')['data'].nunique().reset_index()\n",
    "contagem_dias.columns = ['Ano/Mês', 'Dias em movimento']\n",
    "\n",
    "# Calculando a média\n",
    "media = contagem_dias['Dias em movimento'].mean()\n",
    "\n",
    "# Ordenando os dados\n",
    "contagem_dias['Ano/Mês'] = pd.to_datetime(contagem_dias['Ano/Mês'], format='%Y-%m')\n",
    "contagem_dias.sort_values(by='Ano/Mês', inplace=True)\n",
    "contagem_dias['Ano/Mês'] = contagem_dias['Ano/Mês'].dt.strftime('%Y-%m')\n",
    "\n",
    "# Plotar o gráfico\n",
    "fig = px.bar(contagem_dias, x='Ano/Mês', y='Dias em movimento', title='Dias em Movimento Mês à Mês')\n",
    "fig.add_hline(y=media, line_dash=\"dot\", annotation_text=\"\", annotation_position=\"bottom right\")\n",
    "\n",
    "# Adicionar rótulo de dados na linha da média\n",
    "fig.add_annotation(\n",
    "    xref=\"paper\", x=1, y=media,\n",
    "    text=f\"Média: {media:.0f} dias\",\n",
    "    showarrow=False,\n",
    "    yshift=10,\n",
    "    bordercolor='red',\n",
    "    bgcolor='pink')\n",
    "\n",
    "# Mostrar o gráfico\n",
    "fig.show()\n",
    "\n",
    "fig.write_image(\"../reports/dias_em_movimento.png\")\n"
   ]
  },
  {
   "cell_type": "markdown",
   "metadata": {},
   "source": [
    "Analisando o gráfico ‘Dias em Movimento Mês à Mês’, podemos observar que o número de dias em movimento varia consideravelmente de um mês para outro. A maioria dos meses está próxima da média de 20 dias, mas há variações significativas.\n",
    "\n",
    "*   De novembro de 2022 a maio de 2023, os valores estão abaixo da média. Isso pode ser explicado pelo fato de que o indivíduo estava iniciando seus treinos e gradualmente estabelecendo uma rotina.\n",
    "*   Em junho de 2023, houve uma estabilização, indicando que o hábito de atividade física estava se consolidando.\n",
    "*   Em março de 2024, houve uma queda acentuada. Isso pode estar relacionado a uma lesão ou algum evento específico.\n",
    "*   No entanto, em abril de 2024, o indivíduo retomou as atividades e superou a média, alcançando mais de 20 dias em movimento.\n",
    "*   E nos últimos meses estava em queda, por motivos de lesão."
   ]
  },
  {
   "cell_type": "code",
   "execution_count": null,
   "metadata": {},
   "outputs": [],
   "source": [
    "# 📅 Quantas atividades por tipo de esporte foram feitas mês a mês?\n",
    "# Agrupar os dados por 'ano_mes' e 'sport_type'\n",
    "atividades_por_tipo = df.groupby(['ano_mes', 'sport_type']).size().reset_index(name='Quantidade')\n",
    "atividades_por_tipo.columns = [\"Ano/Mês\", \"Tipo de esporte\", \"Quantidade\"]\n",
    "\n",
    "# Ordenar os dados\n",
    "atividades_por_tipo['Ano/Mês'] = pd.to_datetime(atividades_por_tipo['Ano/Mês'], format='%Y-%m')\n",
    "atividades_por_tipo.sort_values(by='Ano/Mês', inplace=True)\n",
    "atividades_por_tipo['Ano/Mês'] = atividades_por_tipo['Ano/Mês'].dt.strftime('%Y-%m')\n",
    "\n",
    "# Plotar o gráfico de barras\n",
    "fig = px.histogram(atividades_por_tipo, x='Ano/Mês', y='Quantidade', \n",
    "             title='Quantidade de Atividades por Tipo de Esporte Mês a Mês', facet_col='Tipo de esporte')\n",
    "\n",
    "fig.update_traces(texttemplate='%{y}')\n",
    "\n",
    "# Mostrar o gráfico\n",
    "fig.show()\n",
    "fig.write_image(\"../reports/quantidade_atividade_tipo_mes_mes.png\")\n"
   ]
  },
  {
   "cell_type": "markdown",
   "metadata": {},
   "source": [
    "Com base no gráfico “Quantidade de Atividades por Tipo de Esporte Mês a Mês”, podemos tirar algumas conclusões:\n",
    "\n",
    "*   Variação Mensal: O número de atividades por tipo de esporte varia ao longo dos meses. Alguns esportes têm maior frequência em determinados meses.\n",
    "*   Esportes Mais Praticados: A atividade de corrida (running) e treino com peso parece ser as mais frequentes na maioria dos meses.\n",
    "*   Observa-se uma tendência sazonal, onde alguns esportes têm picos em determinados meses ou estações.\n",
    "*   Diversidade de Esportes: O gráfico mostra que diferentes tipos de esporte são praticados regularmente, incluindo treino com peso, caminhada, natação, bicicleta e simulador de escadas.\n",
    "*   Podemos concluir que o foco deste indivíduo é a corrida e treino com peso."
   ]
  },
  {
   "cell_type": "code",
   "execution_count": null,
   "metadata": {},
   "outputs": [],
   "source": [
    "# 🔄 Qual é o tempo em movimento mês a mês por atividade física? ✅\n",
    "# Agrupar os dados por 'ano_mes' e 'sport_type'\n",
    "tempo_em_movimento_por_atividade = df_final.groupby(['ano_mes', 'sport_type'])['duracao_atividade'].sum().reset_index()\n",
    "\n",
    "# Ordenar os dados\n",
    "tempo_em_movimento_por_atividade['ano_mes'] = pd.to_datetime(tempo_em_movimento_por_atividade['ano_mes'], format='%m-%Y')\n",
    "tempo_em_movimento_por_atividade.sort_values(by='ano_mes', inplace=True)\n",
    "tempo_em_movimento_por_atividade['ano_mes'] = tempo_em_movimento_por_atividade['ano_mes'].dt.strftime('%m-%Y')\n",
    "\n",
    "# Converter 'duracao_segundos' de segundos para horas\n",
    "tempo_em_movimento_por_atividade['duracao_horas'] = tempo_em_movimento_por_atividade['duracao_atividade'] / 3600\n",
    "tempo_em_movimento_por_atividade.columns = [\"Mês/Ano\", \"Tipo de esporte\", \"Tempo (s)\", \"Tempo (h)\"]\n",
    "\n",
    "# Plotar o gráfico de barras\n",
    "fig = px.bar(tempo_em_movimento_por_atividade, x='Mês/Ano', y='Tempo (h)', color='Tipo de esporte',\n",
    "             title='Tempo em Movimento Mês a Mês por Atividade Física (Horas)')\n",
    "\n",
    "# Mostrar o gráfico\n",
    "fig.show()\n",
    "fig.write_image(\"../reports/tempo_movimento_por_atividade.png\")"
   ]
  },
  {
   "cell_type": "markdown",
   "metadata": {},
   "source": [
    "O gráfico ‘Tempo em Movimento Mês a Mês’ apresenta as variações no tempo de atividade física ao longo do período analisado:\n",
    "\n",
    "*   Tempo: Representa os meses e anos, variando de janeiro/2023 a setembro/2023 e janeiro/2024 a setembro/2024.\n",
    "*   Horas: A escala vertical mede o tempo em horas dedicado à atividade física.\n",
    "*   Padrões de Tempo em Movimento:\n",
    "    *   O gráfico mostra picos e vales, indicando períodos com mais ou menos tempo em movimento.\n",
    "    *   Não há uma tendência linear clara; o tempo em movimento varia de forma irregular.\n",
    "*   Observações Específicas:\n",
    "    *   Maio de 2023: A redução no tempo em movimento pode ser atribuída às férias/lesões, contudo analisando os meses seguintes está mais para férias que lesões.\n",
    "    *   Março de 2024: Lesão provavelmente, pois o nivel da atividade corrida caiu consideravelmente, melhorando nos meses seguintes.\n",
    "    *   Setembro 2024: Lesão provavelmente, pois novamente o nível de corrida desceu e o de treino com peso subiu consideravelmente.\n",
    "    *   Podemos concluir que sempre que corrida desce, treino ocm peso sobe."
   ]
  },
  {
   "cell_type": "markdown",
   "metadata": {},
   "source": [
    "Observamos que, na maioria dos meses, os esportes predominantes são corrida e treino com peso. No entanto, a partir de abril de 2024, notamos uma diversificação nos tipos de atividades. Nesse mesmo mês, a corrida não foi registrada, pois o indivíduo estava explorando outras modalidades. Em maio de 2024, a corrida foi retomada, mas o indivíduo continuou praticando outras atividades. Embora a corrida seja a mais frequente, em termos de tempo de movimento, o treino com peso é equiparado ou até supera em certas épocas."
   ]
  },
  {
   "cell_type": "code",
   "execution_count": null,
   "metadata": {},
   "outputs": [],
   "source": [
    "# 📏 Quais são as distâncias percorridas mês a mês? ✅\n",
    "# Agrupar os dados por 'ano_mes' e somar a 'distance'\n",
    "distancias_percorridas = df_final.groupby('ano_mes')['distance'].sum().reset_index()\n",
    "\n",
    "# Calcular distância média\n",
    "media = distancias_percorridas['distance'].mean()\n",
    "\n",
    "# Ordenar os dados\n",
    "distancias_percorridas['ano_mes'] = pd.to_datetime(distancias_percorridas['ano_mes'], format='%m-%Y')\n",
    "distancias_percorridas.sort_values(by='ano_mes', inplace=True)\n",
    "distancias_percorridas['ano_mes'] = distancias_percorridas['ano_mes'].dt.strftime('%m-%Y')\n",
    "distancias_percorridas.columns = [\"Mês/Ano\", \"Soma das distâncias\"]\n",
    "\n",
    "# Plotar o gráfico de barras\n",
    "fig = px.bar(distancias_percorridas, x='Mês/Ano', y='Soma das distâncias', title='Distâncias Percorridas Mês a Mês')\n",
    "fig.add_hline(y=media, line_dash=\"dot\", annotation_text=\"\", annotation_position=\"bottom right\")\n",
    "\n",
    "# Adicionar rótulo de dados na linha da média\n",
    "fig.add_annotation(\n",
    "    xref=\"paper\", x=1, y=media,\n",
    "    text=f\"Média: {media:.0f} Km/mês\",\n",
    "    showarrow=False,\n",
    "    yshift=10,\n",
    "    bordercolor='red',\n",
    "    bgcolor='pink')\n",
    "\n",
    "# Mostrar o gráfico\n",
    "fig.show()\n",
    "fig.write_image(\"../reports/distancia_mes_mes.png\")"
   ]
  },
  {
   "cell_type": "markdown",
   "metadata": {},
   "source": [
    "O gráfico apresenta uma série de barras, cada uma representando uma distância específica percorrida. Os meses correspondentes estão indicados no eixo horizontal, variando de “01/2023” a “09/2024” (mesmo período). O eixo vertical representa a distância em quilômetros, variando de 0 a 180 km. As alturas das barras variam, indicando diferentes distâncias percorridas em cada mês.\n",
    "\n",
    "Além disso, há uma linha pontilhada no gráfico, aproximadamente aos 82 km, com uma legenda à direita que diz “Média: 82 km rodados”. Isso sugere que essa é a média das distâncias percorridas ao longo desse período.\n",
    "\n",
    "Observamos que a tendência até fevereiro de 2024 estava em crescimento. No entanto, após a lesão em março de 2024, houve uma tendência de queda até o mês de maio de 2024, quando houve o retorno às atividades de corrida.\n",
    "\n",
    "No entanto, em junho houve outra lsão, mas que não afetou tão diretamente a corrida como pode-se ver. Contudo, em setembro outra nova lesão, e sim, esta parou o indivíduo."
   ]
  },
  {
   "cell_type": "code",
   "execution_count": null,
   "metadata": {},
   "outputs": [],
   "source": [
    "# ⛰️ Quais são os ganhos de elevação mês a mês? ✅\n",
    "# Agrupar os dados por 'ano_mes' e somar a 'distance'\n",
    "distancias_percorridas = df_final.groupby('ano_mes')['total_elevation_gain'].sum().reset_index()\n",
    "\n",
    "# Calcular distância média\n",
    "media = distancias_percorridas['total_elevation_gain'].mean()\n",
    "\n",
    "# Ordenar os dados\n",
    "distancias_percorridas['ano_mes'] = pd.to_datetime(distancias_percorridas['ano_mes'], format='%m-%Y')\n",
    "distancias_percorridas.sort_values(by='ano_mes', inplace=True)\n",
    "distancias_percorridas['ano_mes'] = distancias_percorridas['ano_mes'].dt.strftime('%m-%Y')\n",
    "distancias_percorridas.columns = [\"Mês/Ano\", \"Soma das elevações\"]\n",
    "\n",
    "# Plotar o gráfico de barras\n",
    "fig = px.bar(distancias_percorridas, x='Mês/Ano', y='Soma das elevações', title='Elevações Percorridas Mês a Mês')\n",
    "fig.add_hline(y=media, line_dash=\"dot\", annotation_text=\"\", annotation_position=\"bottom right\")\n",
    "\n",
    "# Adicionar rótulo de dados na linha da média\n",
    "fig.add_annotation(\n",
    "    xref=\"paper\", x=1, y=media,\n",
    "    text=f\"Média: {media:.0f} m/mês\",\n",
    "    showarrow=False,\n",
    "    yshift=10,\n",
    "    bordercolor='red',\n",
    "    bgcolor='pink')\n",
    "\n",
    "# Mostrar o gráfico\n",
    "fig.show()\n",
    "fig.write_image(\"../reports/elevacao_mes_mes.png\")"
   ]
  },
  {
   "cell_type": "code",
   "execution_count": null,
   "metadata": {},
   "outputs": [],
   "source": [
    "# Qual é o tempo em movimento mês a mês?\n",
    "# Agrupando pela coluna mês/ano e somando os segundos gastos na atividade\n",
    "tempo_em_movimento = df_final.groupby(\"ano_mes\")['duracao_atividade'].sum().reset_index()\n",
    "\n",
    "# Ordenando os dados\n",
    "tempo_em_movimento[\"ano_mes\"] = pd.to_datetime(tempo_em_movimento[\"ano_mes\"], format=\"%m-%Y\")\n",
    "tempo_em_movimento.sort_values(by=\"ano_mes\", inplace=True)\n",
    "tempo_em_movimento[\"ano_mes\"] = tempo_em_movimento[\"ano_mes\"].dt.strftime(\"%m-%Y\")\n",
    "\n",
    "# Convertendo segundos -> horas\n",
    "tempo_em_movimento[\"duracao\"] = tempo_em_movimento[\"duracao_atividade\"] / 3600 \n",
    "tempo_em_movimento.columns = [\"Mês/Ano\", \"Duração (s)\", \"Duração (h)\"]\n",
    "\n",
    "# 5. Plotar o gráfico de linhas\n",
    "fig = px.line(tempo_em_movimento, x='Mês/Ano', y='Duração (h)', title='Tempo em Movimento Mês a Mês')\n",
    "\n",
    "# Mostrar o gráfico\n",
    "fig.show()\n",
    "fig.write_image(\"../reports/tempo_mes_mes.png\")"
   ]
  },
  {
   "cell_type": "code",
   "execution_count": null,
   "metadata": {},
   "outputs": [],
   "source": [
    "df_velocidade = df_final.copy()\n",
    "\n",
    "df_velocidade = df_velocidade[df_velocidade['sport_type'] == 'Corrida'].groupby(['ano', 'mes'])['average_speed'].median().reset_index()\n",
    "#df_velocidade['data'] = pd.to_datetime(df_velocidade['year'] + '/' + df_velocidade['month'])\n",
    "df_velocidade['data'] = df_velocidade['ano'].astype(str) + '/' + df_velocidade['mes'].astype(str).str.zfill(2)\n",
    "df_velocidade.columns = ['Ano', 'Mês', 'Velocidade Média (km/h)', 'Ano/Mês']\n",
    "\n",
    "media = df_velocidade['Velocidade Média (km/h)'].median()\n",
    "print(f'Atualmente a média de velocidade é {media:.2f} km/hora.')\n",
    "\n",
    "# Gráfico da evolução da velocidade\n",
    "fig = px.bar(df_velocidade, x='Ano/Mês', y='Velocidade Média (km/h)', title=\"Evolução da velocidade média\")\n",
    "fig.add_hline(y=media, line_dash=\"dot\", annotation_text=\"\", annotation_position=\"bottom right\")\n",
    "\n",
    "# Adicionar rótulo de dados na linha da média\n",
    "fig.add_annotation(\n",
    "    xref=\"paper\", x=1, y=media,\n",
    "    text=f\"Média: {media:.0f} km/hora\",\n",
    "    showarrow=False,\n",
    "    yshift=10,\n",
    "    bordercolor='red',\n",
    "    bgcolor='pink')\n",
    "fig.show()\n",
    "fig.write_image(\"../reports/velocidade_mes_mes.png\")\n"
   ]
  },
  {
   "cell_type": "markdown",
   "metadata": {},
   "source": [
    "Observe que o acúmulo de pontos entre 8 e 10 na velocidade média é explicado pela média da velocidade ser 9 km/h. Os pontos que estão acima ou abaixo dessa média podem estar relacionados a treinos de tiro, aquecimento e desaquecimento, ou seja, ao tipo de treino realizado."
   ]
  },
  {
   "cell_type": "markdown",
   "metadata": {},
   "source": [
    "#### Correlações entre Métricas:\n",
    "Correlações entre diferentes métricas.\n",
    "*   A distância percorrida está relacionada à elevação? \n",
    "*   A frequência cardíaca média afeta a velocidade média?\n",
    "*   A frequência cardíaca e a elevação?"
   ]
  },
  {
   "cell_type": "code",
   "execution_count": null,
   "metadata": {},
   "outputs": [],
   "source": [
    "def calcula_correlacao(df, colunaA, colunaB):\n",
    "    return df[colunaA].corr(df[colunaB])\n",
    "\n",
    "df_corrida = df_final.copy()\n",
    "df_corrida = df_corrida[df_corrida['sport_type'] == 'Corrida']\n",
    "\n",
    "print(f\"Correlação entre distância e elevação = {calcula_correlacao(df_corrida, 'distance', 'total_elevation_gain')}\")\n",
    "print(f\"Correlação entre frequência cardíaca e velocidade = {calcula_correlacao(df_corrida, 'average_heartrate', 'average_speed')}\")\n",
    "print(f\"Correlação entre frequência cardíaca e elevação = {calcula_correlacao(df_corrida, 'average_heartrate', 'total_elevation_gain')}\")\n"
   ]
  },
  {
   "cell_type": "markdown",
   "metadata": {},
   "source": [
    "*   Correlação entre distância e elevação:\n",
    "    A correlação positiva sugere que, em média, quanto maior a distância percorrida, maior a elevação total. Por exemplo, se você está correndo ou pedalando por uma trilha longa, é provável que haja mais subidas e descidas. No entanto, lembre-se de que correlação não implica causalidade. Outros fatores podem estar envolvidos.\n",
    "*   Correlação entre frequência cardíaca e velocidade: Essa correlação negativa sugere que, em média, à medida que a velocidade aumenta, a frequência cardíaca tende a diminuir. No entanto, é importante observar que a velocidade média do atleta está abaixo de 10 km/h. Isso pode indicar que, quando a velocidade é maior, o atleta está realizando treinos de tiro de curtas distâncias, os quais não elevam significativamente a frequência cardíaca. Portanto, para chegar a uma conclusão definitiva, é necessário considerar outros fatores."
   ]
  },
  {
   "cell_type": "code",
   "execution_count": null,
   "metadata": {},
   "outputs": [],
   "source": [
    "# Distância vs Elevação\n",
    "df_calc = df_final[(df_final['sport_type'] == \"Corrida\")].copy()\n",
    "\n",
    "# Convertendo km -> m\n",
    "df_calc['distance'] = df_calc['distance'] * 1000 \n",
    "\n",
    "# Gráfico para distância vs elevação\n",
    "plt.figure(figsize=(14, 7))\n",
    "plt.subplot(2, 1, 1)\n",
    "plt.scatter(df_calc['distance'], df_calc['total_elevation_gain'], alpha=0.5)\n",
    "plt.title('Distância vs Ganho de Elevação')\n",
    "plt.xlabel('Distância (m)')\n",
    "plt.ylabel('Ganho de Elevação (m)')\n",
    "plt.grid(True)\n",
    "\n",
    "# Adicione a linha de tendência (regressão linear)\n",
    "z = np.polyfit(df_calc['distance'], df_calc['total_elevation_gain'], 1)\n",
    "p = np.poly1d(z)\n",
    "plt.plot(df_calc['distance'], p(df_calc['distance']), 'r--')\n",
    "\n",
    "\n",
    "plt.tight_layout()\n",
    "plt.show()"
   ]
  },
  {
   "cell_type": "markdown",
   "metadata": {},
   "source": [
    "Com base no gráfico “Distância vs Ganho de Elevação”, podemos tirar algumas conclusões:\n",
    "\n",
    "*   Correlação Positiva: Existe uma tendência positiva entre a distância percorrida e o ganho de elevação. À medida que a distância aumenta, o ganho de elevação também tende a aumentar. Isso sugere que atividades mais longas (maiores distâncias) geralmente envolvem mais subidas e descidas.\n",
    "*   Variação nos Dados: Embora haja uma tendência geral, também observamos variação nos dados. Por exemplo, há pontos em que a distância é maior, mas o ganho de elevação é menor. Isso pode ser devido a diferentes terrenos, altitudes ou estratégias de treinamento."
   ]
  },
  {
   "cell_type": "code",
   "execution_count": null,
   "metadata": {},
   "outputs": [],
   "source": [
    "# Relação entre velocidade média e batimentos cardíacos médios\n",
    "df_calc = df_final[(df_final['sport_type'] == \"Corrida\")].copy()\n",
    "\n",
    "plt.figure(figsize=(14, 7))\n",
    "\n",
    "# Gráfico para frequência cardíaca média vs. velocidade média\n",
    "plt.subplot(2, 1, 1)\n",
    "plt.scatter(df_calc['average_heartrate'], df_calc['average_speed'], alpha=0.5)\n",
    "plt.title('Frequência Cardíaca Média vs. Velocidade Média')\n",
    "plt.ylabel('Velocidade Média (m/s)')\n",
    "plt.xlabel('Frequência Cardíaca Média (bpm)')\n",
    "plt.grid(True)\n",
    "\n",
    "# Adicione a linha de tendência (regressão linear)\n",
    "z = np.polyfit(df_calc['average_heartrate'], df_calc['average_speed'], 1)\n",
    "p = np.poly1d(z)\n",
    "plt.plot(df_calc['average_heartrate'], p(df_calc['average_heartrate']), 'r--')\n",
    "\n",
    "plt.tight_layout()\n",
    "plt.show()"
   ]
  },
  {
   "cell_type": "markdown",
   "metadata": {},
   "source": [
    "O gráfico “Frequência Cardíaca Média vs. Velocidade Média” mostra a relação entre a velocidade média (em metros por segundo) e a frequência cardíaca média (em batimentos por minuto) durante o exercício físico. Aqui estão as principais observações:\n",
    "*   Tendência Negativa: O gráfico apresenta uma tendência negativa geral. À medida que a velocidade média aumenta, a frequência cardíaca média tende a diminuir. Isso sugere que, quando você se exercita em alta velocidade, seu coração não precisa bater tão rapidamente quanto em velocidades mais baixas.\n",
    "*   Aplicações: Essa relação é relevante para atletas, corredores e ciclistas. Pode ser útil para otimizar o treinamento cardiovascular e entender como diferentes intensidades de exercício afetam a frequência cardíaca.\n",
    "*   Zonas de Treinamento: A interpretação desse gráfico pode ajudar a definir zonas de treinamento com base na velocidade e frequência cardíaca desejadas. Por exemplo, para treinos de resistência, você pode visar uma velocidade moderada com uma frequência cardíaca mais baixa.\n",
    "\n",
    "\n",
    "Relação entre Velocidade e Frequência Cardíaca:\n",
    "Em geral, esperaríamos uma relação positiva entre velocidade e frequência cardíaca. Ou seja, quando a velocidade aumenta, a frequência cardíaca também deveria aumentar.\n",
    "No entanto, seus dados mostraram uma tendência negativa. Isso pode ser explicado por vários fatores.\n",
    "Possíveis Explicações:\n",
    "Velocidade Média Baixa (Abaixo de 10 km/h): Se a velocidade média do atleta é baixa, isso pode indicar que ele está realizando treinos mais leves, como corridas de recuperação ou treinos de base. Nessas situações, a frequência cardíaca pode não aumentar significativamente.\n",
    "Treinos de Tiro de Curtas Distâncias: Quando a velocidade é maior, o atleta pode estar fazendo treinos de tiro (sprints) em curtas distâncias. Esses treinos podem não elevar tanto a frequência cardíaca quanto corridas mais longas.\n",
    "Outros Fatores: Além disso, outros fatores, como nível de condicionamento físico, terreno, temperatura e individualidade, também influenciam a relação entre velocidade e frequência cardíaca.\n",
    "Conclusão Definitiva:\n",
    "Para chegar a uma conclusão definitiva, é importante considerar todos esses fatores e talvez realizar análises mais detalhadas.\n",
    "Lembre-se de que a correlação não implica causalidade direta. Interpretar os dados com cautela é fundamental."
   ]
  },
  {
   "cell_type": "code",
   "execution_count": null,
   "metadata": {},
   "outputs": [],
   "source": [
    "# Frequência Cardíaca vs Elevação\n",
    "df_calc = df_final[(df_final['sport_type'] == \"Corrida\")].copy()\n",
    "\n",
    "# Convertendo km -> m\n",
    "df_calc['distance'] = df_calc['distance'] * 1000 \n",
    "\n",
    "# Gráfico para distância vs elevação\n",
    "plt.figure(figsize=(14, 7))\n",
    "plt.subplot(2, 1, 1)\n",
    "plt.scatter(df_calc['average_heartrate'], df_calc['total_elevation_gain'], alpha=0.5)\n",
    "plt.title('Batimentos Cardíacos vs Ganho de Elevação')\n",
    "plt.xlabel('Batimentos (bpm)')\n",
    "plt.ylabel('Ganho de Elevação (m)')\n",
    "plt.grid(True)\n",
    "\n",
    "# Adicione a linha de tendência (regressão linear)\n",
    "z = np.polyfit(df_calc['average_heartrate'], df_calc['total_elevation_gain'], 1)\n",
    "p = np.poly1d(z)\n",
    "plt.plot(df_calc['average_heartrate'], p(df_calc['average_heartrate']), 'r--')\n",
    "\n",
    "\n",
    "plt.tight_layout()\n",
    "plt.show()"
   ]
  },
  {
   "cell_type": "markdown",
   "metadata": {},
   "source": [
    "Com base no gráfico “Batimentos Cardíacos vs Ganho de Elevação”, podemos tirar algumas conclusões:\n",
    "\n",
    "*   Correlação Positiva: O gráfico mostra uma tendência positiva entre o número de batimentos cardíacos por minuto (bpm) e o ganho de elevação. À medida que os batimentos aumentam, o ganho de elevação também tende a aumentar. Isso sugere que atividades mais intensas, que elevam a frequência cardíaca, resultam em maior ganho de elevação.\n",
    "*   Zona Alvo de Treinamento: Para otimizar o treinamento físico, é importante conhecer sua zona alvo de frequência cardíaca. Essa zona varia com base na idade e no nível de condicionamento físico. Manter-se dentro dessa faixa durante o exercício pode ajudar a maximizar o ganho de elevação."
   ]
  },
  {
   "cell_type": "markdown",
   "metadata": {},
   "source": [
    "Zona alvo de frequência cardíaca = [FC máxima - FC repouso] x %intensidade] + FC repouso\n",
    "\n",
    "FC maxima = 220 - 30 = 190\n",
    "FC repouso = 60\n",
    "- Zona leve: 50% a 60% = (130 * 50%) + 60 = 125 - 137 bpm\n",
    "- Zona moderada: 60% a 70% = (130 * 60%) + 60 = 138 - 150 bpm\n",
    "- Zona intensa: 70% - 85% = (130 * 70%) + 60 = 151 -  171 bpm\n",
    "\n",
    "*   Zona Leve (50% a 60% da FC máxima): Ideal para atividades de baixa intensidade, como caminhadas. Ajuda a melhorar a saúde cardiovascular e a queimar calorias.\n",
    "*   Zona Moderada (60% a 70% da FC máxima): Apropriada para exercícios aeróbicos, como corrida leve ou ciclismo. Melhora a resistência e a queima de gordura.\n",
    "*   Zona Intensa (70% a 85% da FC máxima): Indicada para treinos mais vigorosos, como corrida rápida ou treinamento intervalado. Melhora o condicionamento cardiovascular e aumenta o gasto calórico."
   ]
  },
  {
   "cell_type": "code",
   "execution_count": null,
   "metadata": {},
   "outputs": [],
   "source": [
    "# 📅 Qual quilometragem foram feitas por semana?\n",
    "# Criando nº semana\n",
    "df_final['semana'] = df_final['data'].dt.strftime('%W')\n",
    "\n",
    "# Novo DF com os dados de Corrida do ano de 2024 somando as distâncias\n",
    "soma_semanal = df_final[(df_final['ano'] == pd.Timestamp('today').year) & (df_final['sport_type'] == 'Corrida')].groupby('semana')['distance'].sum().reset_index()\n",
    "\n",
    "# Ultima semana com registro\n",
    "ultima_semana = int(max(df_final['semana']))\n",
    "\n",
    "# segundo DF com todas as semanas até a última definida\n",
    "todas_semanas = pd.DataFrame({'semana': range(1, ultima_semana)})\n",
    "\n",
    "todas_semanas['semana'] = todas_semanas['semana'].astype(int)\n",
    "soma_semanal['semana'] = soma_semanal['semana'].astype(int)\n",
    "\n",
    "# Junção dos DF, quando a semana não teve movimento carregar 0\n",
    "semana_distance = pd.merge(todas_semanas, soma_semanal, on='semana', how='left').fillna(0)"
   ]
  },
  {
   "cell_type": "code",
   "execution_count": null,
   "metadata": {},
   "outputs": [],
   "source": [
    "semana_distance.columns = ['Semana', 'Distancia']\n",
    "\n",
    "# Plotar o gráfico\n",
    "fig = px.bar(semana_distance, x='Semana', y='Distancia', title=f\"Distância Percorrida por Semana em {pd.Timestamp('today').year}\")\n",
    "\n",
    "# Adicione rótulos de dados às barras\n",
    "fig.update_traces(texttemplate='%{y}')\n",
    "\n",
    "fig.show()\n",
    "fig.write_image(\"../reports/distancia_semanal.png\")"
   ]
  },
  {
   "cell_type": "markdown",
   "metadata": {},
   "source": [
    "Vamos analisar as distâncias percorridas semanalmente durante o ano de 2024. Até a semana 08, a distância se manteve constante. A partir da semana 9, houve um declínio. Não temos dados para as semanas 10, 12, 13, 14, 15, 16 e 17, período em que o indivíduo estava se recuperando de uma lesão. A partir da semana 18, observamos uma evolução gradual na quilometragem."
   ]
  },
  {
   "cell_type": "code",
   "execution_count": null,
   "metadata": {},
   "outputs": [],
   "source": [
    "# 📅 Qual duração foram feitas por semana?\n",
    "# Novo DF com os dados do ano de 2024 somando a duração das atividades\n",
    "soma_semanal = df_final[(df_final['ano'] == pd.Timestamp('today').year)].groupby('semana')['duracao_atividade'].sum().reset_index()\n",
    "\n",
    "# Ultima semana com registro\n",
    "ultima_semana = int(max(df_final['semana']))\n",
    "\n",
    "# segundo DF com todas as semanas até a última definida\n",
    "todas_semanas = pd.DataFrame({'semana': range(1, ultima_semana)})\n",
    "\n",
    "todas_semanas['semana'] = todas_semanas['semana'].astype(int)\n",
    "soma_semanal['semana'] = soma_semanal['semana'].astype(int)\n",
    "\n",
    "# Junção dos DF, quando a semana não teve movimento carregar 0\n",
    "semana_duracao = pd.merge(todas_semanas, soma_semanal, on='semana', how='left').fillna(0)"
   ]
  },
  {
   "cell_type": "code",
   "execution_count": null,
   "metadata": {},
   "outputs": [],
   "source": [
    "semana_duracao.columns = ['Semana', 'Duração']\n",
    "\n",
    "semana_duracao['Duração'] = semana_duracao['Duração']/3600\n",
    "\n",
    "# Plotar o gráfico\n",
    "fig = px.bar(semana_duracao, x='Semana', y='Duração', title=f\"Duração das Atividades por Semana em {pd.Timestamp('today').year}\")\n",
    "\n",
    "# Adicione rótulos de dados às barras\n",
    "fig.update_traces(texttemplate='%{y}')\n",
    "\n",
    "fig.show()\n",
    "fig.write_image(\"../reports/duracao_semanal_2024.png\")"
   ]
  },
  {
   "cell_type": "code",
   "execution_count": null,
   "metadata": {},
   "outputs": [],
   "source": [
    "# 📅 Qual elevação foram feitas por semana?\n",
    "# Novo DF com os dados de 2024 somando a elevação das atividades\n",
    "soma_semanal = df_final[(df_final['ano'] == pd.Timestamp('today').year) & (df_final['total_elevation_gain'] > 0)].groupby('semana')['total_elevation_gain'].sum().reset_index()\n",
    "\n",
    "# Ultima semana com registro\n",
    "ultima_semana = int(max(df_final['semana']))\n",
    "\n",
    "# segundo DF com todas as semanas até a última definida\n",
    "todas_semanas = pd.DataFrame({'semana': range(1, ultima_semana)})\n",
    "\n",
    "todas_semanas['semana'] = todas_semanas['semana'].astype(int)\n",
    "soma_semanal['semana'] = soma_semanal['semana'].astype(int)\n",
    "\n",
    "# Junção dos DF, quando a semana não teve movimento carregar 0\n",
    "semana_elevacao = pd.merge(todas_semanas, soma_semanal, on='semana', how='left').fillna(0)"
   ]
  },
  {
   "cell_type": "code",
   "execution_count": null,
   "metadata": {},
   "outputs": [],
   "source": [
    "semana_elevacao.columns = ['Semana', 'Elevação']\n",
    "\n",
    "# Plotar o gráfico\n",
    "fig = px.line(semana_elevacao, x='Semana', y='Elevação', title=f\"Elevação Percorrida por Semana em {pd.Timestamp('today').year}\")\n",
    "\n",
    "# Adicione rótulos de dados às barras\n",
    "fig.update_traces(texttemplate='%{y}')\n",
    "\n",
    "fig.show()\n",
    "fig.write_image(\"../reports/altitude_semanal_2024.png\")"
   ]
  },
  {
   "cell_type": "markdown",
   "metadata": {},
   "source": [
    "#### Dia da Semana com Mais Quilômetros Rodados:\n",
    "*   Soma total da distância percorrida para cada dia da semana e determinar qual dia tem a maior quilometragem acumulada."
   ]
  },
  {
   "cell_type": "code",
   "execution_count": null,
   "metadata": {},
   "outputs": [],
   "source": [
    "df['semana'] = df['data'].dt.strftime('%W')\n",
    "\n",
    "df['dia_da_semana'] = df['data'].dt.dayofweek\n",
    "\n",
    "dias = {0: 'Segunda-feira', 1: 'Terça-feira', 2: 'Quarta-feira', 3: 'Quinta-feira', 4: 'Sexta-feira', 5: 'Sábado', 6: 'Domingo'}\n",
    "\n",
    "df['nome_do_dia'] = df['data'].dt.strftime('%A')"
   ]
  },
  {
   "cell_type": "code",
   "execution_count": null,
   "metadata": {},
   "outputs": [],
   "source": [
    "# Dias da semana com maior distância\n",
    "df_distancia = df.copy()\n",
    "df_distancia = df_distancia[df_distancia['distance'] > 0]\n",
    "\n",
    "# Criando DF dias da semana | Média de distância\n",
    "df_distancia = df_distancia.groupby('dia_da_semana')['distance'].sum().reset_index()\n",
    "# Renomear colunas\n",
    "df_distancia.columns = ['Dia da Semana', 'Distância (km)']\n",
    "\n",
    "# Gráfico\n",
    "fig = px.bar(df_distancia, x='Dia da Semana', y='Distância (km)', title='Total de km rodados por dias da semana [Seg - Dom]')\n",
    "\n",
    "# Adicione rótulos de dados às barras\n",
    "fig.update_traces(texttemplate='%{y}')\n",
    "\n",
    "fig.show()\n",
    "fig.write_image(\"../reports/dia_semana_volume_km.png\")"
   ]
  },
  {
   "cell_type": "markdown",
   "metadata": {},
   "source": [
    "#### Dia da Semana com Treinos Mais Pesados:\n",
    "*   Segundo a métrica distância;\n",
    "*   Segundo a métrica elevação;\n",
    "*   Segundo a métrica tempo em movimento;\n",
    "*   Segundo o esforço, onde a fórmula geral é = w1x*distância normalizada + w2x*elevação normalizada + w3x*frequência cardíaca normalizada."
   ]
  },
  {
   "cell_type": "code",
   "execution_count": null,
   "metadata": {},
   "outputs": [],
   "source": [
    "# Dias da semana com maior distância\n",
    "df_distancia = df.copy()\n",
    "df_distancia = df_distancia[df_distancia['distance'] > 0]\n",
    "\n",
    "# Criando DF dias da semana | Média de distância\n",
    "df_distancia = df_distancia.groupby('semana')['distance'].mean().reset_index()\n",
    "# Renomear colunas\n",
    "df_distancia.columns = ['Dia da Semana', 'Distância (km)']\n",
    "\n",
    "# Gráfico\n",
    "fig = px.bar(df_distancia, x='Dia da Semana', y='Distância (km)', title='Média de distância por dias da semana [Seg - Dom]')\n",
    "\n",
    "# Adicione rótulos de dados às barras\n",
    "fig.update_traces(texttemplate='%{y}')\n",
    "\n",
    "fig.show()\n",
    "fig.write_image(\"../reports/media_distancia_semana.png\")"
   ]
  },
  {
   "cell_type": "code",
   "execution_count": null,
   "metadata": {},
   "outputs": [],
   "source": [
    "# Dias da semana com maior elevação nos treinos\n",
    "df_elevacao = df.copy()\n",
    "df_elevacao = df_elevacao[df_elevacao['total_elevation_gain'] > 0]\n",
    "\n",
    "# Criando DF dias da semana | Média de Ganho de Elevação\n",
    "df_elevacao = df_elevacao.groupby(['semana', 'sport_type'])['total_elevation_gain'].mean().reset_index()\n",
    "# Renomear colunas\n",
    "df_elevacao.columns = ['Dia da Semana', 'Esporte', 'Elevação (m)']\n",
    "\n",
    "# Gráfico\n",
    "fig = px.bar(df_elevacao, x='Dia da Semana', y='Elevação (m)', color='Esporte', title='Média de ganho de elevação por dias da semana [Seg - Dom]')\n",
    "\n",
    "# Adicione rótulos de dados às barras\n",
    "fig.update_traces(texttemplate='%{y}')\n",
    "\n",
    "fig.show()\n",
    "fig.write_image(\"../reports/elevacao_semana.png\")"
   ]
  },
  {
   "cell_type": "code",
   "execution_count": null,
   "metadata": {},
   "outputs": [],
   "source": [
    "# Dias da semana com mais tempo treinando\n",
    "df_weekday = df.copy()\n",
    "df_weekday['duracao'] = pd.to_timedelta(df_weekday['duracao_atividade'], unit='s')\n",
    "\n",
    "# Calculo para resultado ser lido HH,MM\n",
    "df_weekday['duracao'] = (df_weekday['duracao'].dt.components['hours'].astype(str) + '.' + df_weekday['duracao'].dt.components['minutes'].astype(str)).astype(float)\n",
    "\n",
    "# Criando DF dias da semana | Média de Duração\n",
    "df_weekday = df_weekday.groupby('semana')['duracao'].mean().reset_index()\n",
    "\n",
    "# Arredonda a média da duração para duas casas decimais\n",
    "df_weekday['duracao'] = df_weekday['duracao'].round(2)\n",
    "\n",
    "# Renomear colunas\n",
    "df_weekday.columns = ['Dia da Semana', 'Duração (h)']\n",
    "\n",
    "# Gráfico\n",
    "fig = px.bar(df_weekday, x='Dia da Semana', y='Duração (h)', title='Média de treino por dias da semana [Seg - Dom]')\n",
    "\n",
    "# Adicione rótulos de dados às barras\n",
    "fig.update_traces(texttemplate='%{y}')\n",
    "\n",
    "fig.show()\n",
    "fig.write_image(\"../reports/media_treino_semana.png\")"
   ]
  },
  {
   "cell_type": "code",
   "execution_count": null,
   "metadata": {},
   "outputs": [],
   "source": [
    "# Calcular esforço por dia da semana\n",
    "df_esforco = df.copy()\n",
    "\n",
    "# Normalização das métricas (entre 0 e 1)\n",
    "df_esforco['distancia_normalizada'] = (df_esforco['distance'] - df_esforco['distance'].min()) / (df_esforco['distance'].max() - df_esforco['distance'].min())\n",
    "df_esforco['elevacao_normalizada'] = (df_esforco['total_elevation_gain'] - df_esforco['total_elevation_gain'].min()) / (df_esforco['total_elevation_gain'].max() - df_esforco['total_elevation_gain'].min())\n",
    "df_esforco['freq_cardiaca_normalizada'] = (df_esforco['average_heartrate'] - df_esforco['average_heartrate'].min()) / (df_esforco['average_heartrate'].max() - df_esforco['average_heartrate'].min())\n",
    "\n",
    "def descobre_pesos(df_esforco):\n",
    "\n",
    "    pesos = list(itertools.product([0.2, 0.3, 0.4], repeat=3))\n",
    "\n",
    "    # Calcula o índice de esforço para cada combinação de pesos\n",
    "    resultados = []\n",
    "    \n",
    "    for pesos in pesos:\n",
    "        indice_esforco = (\n",
    "            pesos[0] * df_esforco['distancia_normalizada'] +\n",
    "            pesos[1] * df_esforco['elevacao_normalizada'] +\n",
    "            pesos[2] * df_esforco['freq_cardiaca_normalizada']\n",
    "        )\n",
    "        resultados.append((pesos, indice_esforco.mean()))\n",
    "\n",
    "    # Encontre a combinação com o maior índice de esforço médio\n",
    "    melhor_combinacao = max(resultados, key=lambda x: x[1])[0]\n",
    "\n",
    "    return melhor_combinacao\n",
    "\n",
    "peso_distancia, peso_elevacao, peso_freq_cardiaca = descobre_pesos(df_esforco)\n",
    "\n",
    "# Cálculo do índice de esforço\n",
    "df_esforco['indice_esforco'] = (\n",
    "    peso_distancia * df_esforco['distancia_normalizada'] +\n",
    "    peso_elevacao * df_esforco['elevacao_normalizada'] +\n",
    "    peso_freq_cardiaca * df_esforco['freq_cardiaca_normalizada']\n",
    ")\n",
    "\n",
    "# DF com esforço por dias da semana\n",
    "df_esforco = df_esforco.groupby('nome_do_dia')['indice_esforco'].mean().reset_index()\n",
    "\n",
    "# Renomear colunas\n",
    "df_esforco.columns = ['Dias da Semana', 'Índice de Esforço']\n",
    "\n",
    "# Gráfico\n",
    "fig = px.bar(df_esforco, x='Dias da Semana', y='Índice de Esforço', title='Dias da Semana com Maior Índice de Esforço')\n",
    "\n",
    "# Rótulos de dados\n",
    "fig.update_traces(texttemplate='%{y}')\n",
    "\n",
    "fig.show()\n",
    "fig.write_image(\"../reports/dias_semana.png\")"
   ]
  },
  {
   "cell_type": "markdown",
   "metadata": {},
   "source": [
    "#### Dia da Semana com Mais Atividades:\n",
    "*   Número de atividades realizadas em cada dia da semana;\n",
    "*   Qual o dia de maior presença;\n",
    "*   Qual o dia menos atlético."
   ]
  },
  {
   "cell_type": "code",
   "execution_count": null,
   "metadata": {},
   "outputs": [],
   "source": [
    "# Dias da semana mais faltantes\n",
    "df_contagem_dia = df.copy()\n",
    "\n",
    "df_contagem_dia = df.groupby('dia_da_semana').size().reset_index()\n",
    "\n",
    "# Renomear colunas\n",
    "df_contagem_dia.columns = ['Dias da Semana', 'Presença']\n",
    "\n",
    "# Gráfico\n",
    "fig = px.bar(df_contagem_dia, x='Dias da Semana', y='Presença', title='Presença nos Treinos por Dias da Semana')\n",
    "\n",
    "# Rótulos de dados\n",
    "fig.update_traces(texttemplate='%{y}')\n",
    "\n",
    "fig.show()\n",
    "fig.write_image(\"../reports/presenca_treinos_dias_semana.png\")"
   ]
  }
 ],
 "metadata": {
  "kernelspec": {
   "display_name": "base",
   "language": "python",
   "name": "python3"
  },
  "language_info": {
   "codemirror_mode": {
    "name": "ipython",
    "version": 3
   },
   "file_extension": ".py",
   "mimetype": "text/x-python",
   "name": "python",
   "nbconvert_exporter": "python",
   "pygments_lexer": "ipython3",
   "version": "3.11.4"
  },
  "orig_nbformat": 4
 },
 "nbformat": 4,
 "nbformat_minor": 2
}
