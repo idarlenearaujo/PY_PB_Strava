{
 "cells": [
  {
   "cell_type": "code",
   "execution_count": 1,
   "metadata": {},
   "outputs": [],
   "source": [
    "from pathlib import Path\n",
    "import pandas as pd\n",
    "import logging\n",
    "\n",
    "# Constantes\n",
    "ROOT_PATH = Path.cwd().parent\n",
    "DATA_RAW_FOLDER = ROOT_PATH / \"data/raw\"\n",
    "DATA_PROCESSED_FOLDER = ROOT_PATH / \"data/processed\"\n",
    "STRAVA_DATA_FILE = DATA_RAW_FOLDER / \"strava_data.csv\"\n",
    "PROCESSED_DATA_FILE = DATA_PROCESSED_FOLDER / \"data.csv\"\n",
    "\n",
    "# Configuração de logging\n",
    "logging.basicConfig(level=logging.INFO, format='%(asctime)s - %(levelname)s - %(message)s')\n",
    "\n",
    "# Dicionário de esportes em português\n",
    "SPORT_TYPE_PT = {\n",
    "    'Walk': 'Caminhada',\n",
    "    'Run': 'Corrida',\n",
    "    'StairStepper': 'Simulador de escadas',\n",
    "    'WeightTraining': 'Treino com peso',\n",
    "    'Workout': 'Treino livre',\n",
    "    'Swim': 'Natação',\n",
    "    'Ride': 'Bicicleta'\n",
    "}"
   ]
  },
  {
   "cell_type": "code",
   "execution_count": 2,
   "metadata": {},
   "outputs": [],
   "source": [
    "'''\n",
    " Salvando arquivo pronto para análise\n",
    "'''\n",
    "def salvar_dados(df, caminho):\n",
    "    df.to_csv(caminho, index=False, header=True)\n",
    "    logging.info(f\"Arquivo {caminho.name} salvo com sucesso!\")"
   ]
  },
  {
   "cell_type": "code",
   "execution_count": 3,
   "metadata": {},
   "outputs": [],
   "source": [
    "'''\n",
    "Substituindo os nomes das atividades fisicas equivalentes em português\n",
    "'''\n",
    "def substitui_sport_type(df):\n",
    "    df['sport_type'] = df['sport_type'].replace(SPORT_TYPE_PT)\n",
    "    logging.info(\"Sport_Type atualizado para PT-BR!\")"
   ]
  },
  {
   "cell_type": "code",
   "execution_count": 4,
   "metadata": {},
   "outputs": [],
   "source": [
    "'''\n",
    "Atividades indoor: WeightTraining, Workout - Não há elevação\n",
    "Atividades ao ar livre: Run, Walk Esteira - Elevação = 0\n",
    "Max_Speed = Average_Speed\n",
    "'''\n",
    "def trata_nulos(df):\n",
    "    atividades_indoor = [\"WeightTraining\", \"Workout\"]\n",
    "    df.loc[df['sport_type'].isin(atividades_indoor), ['elev_high', 'elev_low']] = 0\n",
    "    df.loc[(df['sport_type'] == 'Run') & (df['max_speed'] == 0), 'max_speed'] = df['average_speed']\n",
    "    df.loc[(df['sport_type'] == 'Run') & (df['total_elevation_gain'] == 0), ['elev_high', 'elev_low']] = 0\n",
    "    \n",
    "    # Substituir valores nulos para 'Swim'\n",
    "    valores_para_substituir = {'max_heartrate': 0, 'average_heartrate': 0}\n",
    "    df.loc[df['sport_type'] == 'Swim', ['max_heartrate', 'average_heartrate']] = df.loc[df['sport_type'] == 'Swim', ['max_heartrate', 'average_heartrate']].fillna(valores_para_substituir)\n",
    "    logging.info(\"Nulos tratados!\")"
   ]
  },
  {
   "cell_type": "code",
   "execution_count": 5,
   "metadata": {},
   "outputs": [],
   "source": [
    "'''\n",
    "Verificando presença de valores nulos nos dados\n",
    "'''\n",
    "def verifica_nulos(df):\n",
    "    nulos = df.isnull().sum()\n",
    "    nulos = nulos[nulos > 0].to_dict()\n",
    "    logging.info(f\"Nulos encontrados: {nulos}\")\n",
    "    if nulos:\n",
    "        trata_nulos(df)\n",
    "\n",
    "    return df"
   ]
  },
  {
   "cell_type": "code",
   "execution_count": 6,
   "metadata": {},
   "outputs": [],
   "source": [
    "''' \n",
    "- Dados a partir de 01-01-2022\n",
    "- Distância em Km\n",
    "- Velocidade em Km/h\n",
    "- Criando coluna data apenas com dia, mês e ano\n",
    "- Criando duração da atividade em segundos\n",
    "- Criando coluna Ano\n",
    "- Criando coluna Mês\n",
    "'''\n",
    "def prepara_dados(df):\n",
    "\n",
    "    df_copy = df.copy()\n",
    "    df_copy['start_date_local'] = pd.to_datetime(df_copy['start_date_local'])\n",
    "    df_copy = df_copy[df_copy['start_date_local'] > '2022-01-01']\n",
    "    df_copy['distance'] = df_copy['distance'] / 1000\n",
    "    df_copy['average_speed'] = df_copy['average_speed'] * 3.6\n",
    "    df_copy['max_speed'] = df_copy['max_speed'] * 3.6\n",
    "    df_copy['data'] = df_copy['start_date_local'].dt.strftime('%d-%m-%Y')\n",
    "    df_copy['duracao_atividade'] = df_copy['moving_time']\n",
    "    df_copy['ano'] = df_copy['start_date_local'].dt.year\n",
    "    df_copy['mes'] = df_copy['start_date_local'].dt.month\n",
    "    logging.info(\"Dados preparados com sucesso!\")\n",
    "\n",
    "    return df_copy"
   ]
  },
  {
   "cell_type": "code",
   "execution_count": 7,
   "metadata": {},
   "outputs": [
    {
     "name": "stderr",
     "output_type": "stream",
     "text": [
      "2024-10-04 10:10:11,768 - INFO - Dados preparados com sucesso!\n",
      "2024-10-04 10:10:11,772 - INFO - Nulos encontrados: {'average_heartrate': 11, 'max_heartrate': 11, 'elev_high': 63, 'elev_low': 63}\n",
      "2024-10-04 10:10:11,784 - INFO - Nulos tratados!\n",
      "2024-10-04 10:10:11,786 - INFO - Sport_Type atualizado para PT-BR!\n"
     ]
    },
    {
     "name": "stderr",
     "output_type": "stream",
     "text": [
      "2024-10-04 10:10:11,809 - INFO - Arquivo data.csv salvo com sucesso!\n"
     ]
    }
   ],
   "source": [
    "# Ler do arquivo strava_data.csv\n",
    "if not STRAVA_DATA_FILE.is_file():\n",
    "    logging.warning(f\"O arquivo {STRAVA_DATA_FILE.name} não foi encontrado! Por favor colete os dados do Strava novamente!\")\n",
    "else:\n",
    "    df = pd.read_csv(STRAVA_DATA_FILE, encoding=\"utf-8\")\n",
    "    df = prepara_dados(df)\n",
    "    verifica_nulos(df)\n",
    "    substitui_sport_type(df)\n",
    "    salvar_dados(df, PROCESSED_DATA_FILE)"
   ]
  },
  {
   "cell_type": "code",
   "execution_count": null,
   "metadata": {},
   "outputs": [],
   "source": []
  }
 ],
 "metadata": {
  "kernelspec": {
   "display_name": "base",
   "language": "python",
   "name": "python3"
  },
  "language_info": {
   "codemirror_mode": {
    "name": "ipython",
    "version": 3
   },
   "file_extension": ".py",
   "mimetype": "text/x-python",
   "name": "python",
   "nbconvert_exporter": "python",
   "pygments_lexer": "ipython3",
   "version": "3.11.4"
  },
  "orig_nbformat": 4
 },
 "nbformat": 4,
 "nbformat_minor": 2
}
